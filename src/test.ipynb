{
 "cells": [
  {
   "cell_type": "code",
   "execution_count": 1,
   "metadata": {},
   "outputs": [],
   "source": [
    "import pandas as pd\n",
    "import numpy as np\n",
    "from sklearn.preprocessing import MinMaxScaler\n",
    "from sklearn.pipeline import Pipeline\n",
    "from sklearn.impute import SimpleImputer\n"
   ]
  },
  {
   "cell_type": "code",
   "execution_count": 9,
   "metadata": {},
   "outputs": [],
   "source": [
    "df = pd.read_excel(f\"G:\\\\turbine_ad\\\\raw\\\\Wind-Turbine-SCADA-signals-2017_0.xlsx\")\n"
   ]
  },
  {
   "cell_type": "code",
   "execution_count": 3,
   "metadata": {},
   "outputs": [],
   "source": [
    "preprocessing_pipeline = Pipeline([(\"imputer\", SimpleImputer(strategy=\"mean\"))])\n"
   ]
  },
  {
   "cell_type": "code",
   "execution_count": 7,
   "metadata": {},
   "outputs": [],
   "source": [
    "turbine_ids = df[\"Turbine_ID\"].unique()\n",
    "\n",
    "processed_data = []\n",
    "for turbine_id in turbine_ids:\n",
    "    df_turbine = df.loc[\n",
    "        df[\"Turbine_ID\"] == turbine_id\n",
    "    ].copy()  # Create a copy explicitly\n",
    "\n",
    "    time = pd.to_datetime(df_turbine[\"Timestamp\"], format=\"mixed\")\n",
    "    # replace existing \"Timestamp\" column with the new one\n",
    "    df_turbine[\"Timestamp\"] = time\n",
    "    # sort the data by time and reset the index\n",
    "    df_turbine = df_turbine.sort_values(\"Timestamp\").reset_index(drop=True)\n",
    "\n",
    "    time_stamp = df_turbine[\"Timestamp\"]\n",
    "    df_turbine.set_index(\"Timestamp\", inplace=True)\n",
    "    df_turbine_processed = preprocessing_pipeline.fit_transform(\n",
    "        df_turbine[df.columns[2:]]\n",
    "    )\n",
    "    df_turbine_processed = pd.DataFrame(\n",
    "        df_turbine_processed, columns=df.columns[2:]\n",
    "    ).reset_index(drop=True)\n",
    "    df_turbine_processed.insert(0, \"Turbine_ID\", turbine_id)\n",
    "    df_turbine_processed.insert(1, \"Timestamp\", time_stamp)\n",
    "\n",
    "    df_turbine_processed.to_csv(\n",
    "        f\"G:\\\\turbine_ad\\\\raw\\\\{turbine_id}_2017.csv\", index=False\n",
    "    )\n",
    "    # processed_data.append(df_turbine_processed)\n",
    "\n",
    "# Concatenate all processed data\n",
    "# df_processed = pd.concat(processed_data)\n",
    "# df_processed.to_csv(\"G:\\\\turbine_ad\\\\raw\\\\Wind-Turbine-SCADA-signals-2017.csv\")\n"
   ]
  },
  {
   "cell_type": "code",
   "execution_count": 1,
   "metadata": {},
   "outputs": [
    {
     "data": {
      "text/plain": [
       "48"
      ]
     },
     "execution_count": 1,
     "metadata": {},
     "output_type": "execute_result"
    }
   ],
   "source": []
  },
  {
   "cell_type": "code",
   "execution_count": 21,
   "metadata": {},
   "outputs": [],
   "source": [
    "df = pd.read_excel(\n",
    "    f\"G:\\\\turbine_ad\\\\raw\\\\EDP Wind Turbine Dataset\\\\Wind Turbines Logs 2017.xlsx\"\n",
    ")\n",
    "\n",
    "\n",
    "turbine_ids = df[\"Turbine_Identifier\"].unique()\n",
    "\n",
    "processed_data = []\n",
    "for turbine_id in turbine_ids:\n",
    "    df_turbine = df.loc[\n",
    "        df[\"Turbine_Identifier\"] == turbine_id\n",
    "    ].copy()  # Create a copy explicitly\n",
    "    time = pd.to_datetime(df_turbine[\"Time_Detected\"], format=\"mixed\")\n",
    "    time_resets = pd.to_datetime(df_turbine[\"Time_Reset\"], format=\"mixed\")\n",
    "    # replace existing \"Timestamp\" column with the new one\n",
    "    df_turbine[\"Time_Detected\"] = time\n",
    "    df_turbine[\"Time_Reset\"] = time_resets\n",
    "    df_turbine = df_turbine.sort_values(\"Time_Detected\").reset_index(drop=True)\n",
    "\n",
    "    df_turbine.to_csv(f\"G:\\\\turbine_ad\\\\raw\\\\{turbine_id}_logs_2017.csv\", index=False)\n",
    "    # break\n"
   ]
  },
  {
   "cell_type": "code",
   "execution_count": 23,
   "metadata": {},
   "outputs": [],
   "source": [
    "df = pd.read_excel(\n",
    "    f\"G:\\\\turbine_ad\\\\raw\\\\EDP Wind Turbine Dataset\\\\opendata-wind-failures-2017.xlsx\"\n",
    ")\n",
    "\n",
    "turbine_ids = df[\"Turbine_ID\"].unique()\n",
    "\n",
    "processed_data = []\n",
    "for turbine_id in turbine_ids:\n",
    "    df_turbine = df.loc[\n",
    "        df[\"Turbine_ID\"] == turbine_id\n",
    "    ].copy()  # Create a copy explicitly\n",
    "    time = pd.to_datetime(df_turbine[\"Timestamp\"], format=\"mixed\")\n",
    "    # replace existing \"Timestamp\" column with the new one\n",
    "    df_turbine[\"Timestamp\"] = time\n",
    "    df_turbine = df_turbine.sort_values(\"Timestamp\").reset_index(drop=True)\n",
    "\n",
    "    df_turbine.to_csv(\n",
    "        f\"G:\\\\turbine_ad\\\\raw\\\\{turbine_id}_failures_2017.csv\", index=False\n",
    "    )\n",
    "    # break\n"
   ]
  }
 ],
 "metadata": {
  "kernelspec": {
   "display_name": "exo",
   "language": "python",
   "name": "python3"
  },
  "language_info": {
   "codemirror_mode": {
    "name": "ipython",
    "version": 3
   },
   "file_extension": ".py",
   "mimetype": "text/x-python",
   "name": "python",
   "nbconvert_exporter": "python",
   "pygments_lexer": "ipython3",
   "version": "3.11.9"
  }
 },
 "nbformat": 4,
 "nbformat_minor": 2
}
